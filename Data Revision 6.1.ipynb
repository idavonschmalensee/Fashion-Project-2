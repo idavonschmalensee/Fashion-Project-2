{
 "cells": [
  {
   "cell_type": "markdown",
   "id": "a5cf155b",
   "metadata": {},
   "source": [
    "## Data Revision"
   ]
  },
  {
   "cell_type": "code",
   "execution_count": 26,
   "id": "9934e2ba",
   "metadata": {},
   "outputs": [],
   "source": [
    "##Libraries are imported\n",
    "\n",
    "import pandas as pd\n",
    "import numpy as np\n",
    "import os"
   ]
  },
  {
   "cell_type": "code",
   "execution_count": 27,
   "id": "54863c05",
   "metadata": {},
   "outputs": [],
   "source": [
    "##Path for the data set is created\n",
    "path=r'C:\\Users\\Ida\\Desktop\\Fashion Project'"
   ]
  },
  {
   "cell_type": "code",
   "execution_count": 44,
   "id": "63b68c92",
   "metadata": {},
   "outputs": [],
   "source": [
    "##Data set is imported\n",
    "df = pd.read_csv(os.path.join(path, 'Data Source', 'mock_fashion_data_uk_us.csv'), index_col = False)"
   ]
  },
  {
   "cell_type": "code",
   "execution_count": 45,
   "id": "b25bba05",
   "metadata": {
    "scrolled": true
   },
   "outputs": [
    {
     "data": {
      "text/html": [
       "<div>\n",
       "<style scoped>\n",
       "    .dataframe tbody tr th:only-of-type {\n",
       "        vertical-align: middle;\n",
       "    }\n",
       "\n",
       "    .dataframe tbody tr th {\n",
       "        vertical-align: top;\n",
       "    }\n",
       "\n",
       "    .dataframe thead th {\n",
       "        text-align: right;\n",
       "    }\n",
       "</style>\n",
       "<table border=\"1\" class=\"dataframe\">\n",
       "  <thead>\n",
       "    <tr style=\"text-align: right;\">\n",
       "      <th></th>\n",
       "      <th>Product Name</th>\n",
       "      <th>Price</th>\n",
       "      <th>Brand</th>\n",
       "      <th>Category</th>\n",
       "      <th>Description</th>\n",
       "      <th>Rating</th>\n",
       "      <th>Review Count</th>\n",
       "      <th>Style Attributes</th>\n",
       "      <th>Total Sizes</th>\n",
       "      <th>Available Sizes</th>\n",
       "      <th>Color</th>\n",
       "      <th>Purchase History</th>\n",
       "      <th>Age</th>\n",
       "      <th>Fashion Magazines</th>\n",
       "      <th>Fashion Influencers</th>\n",
       "      <th>Season</th>\n",
       "      <th>Time Period Highest Purchase</th>\n",
       "      <th>Customer Reviews</th>\n",
       "      <th>Social Media Comments</th>\n",
       "      <th>feedback</th>\n",
       "    </tr>\n",
       "  </thead>\n",
       "  <tbody>\n",
       "    <tr>\n",
       "      <th>0</th>\n",
       "      <td>T5D3</td>\n",
       "      <td>97.509966</td>\n",
       "      <td>Ralph Lauren</td>\n",
       "      <td>Footwear</td>\n",
       "      <td>Bad</td>\n",
       "      <td>1.421706</td>\n",
       "      <td>492</td>\n",
       "      <td>Streetwear</td>\n",
       "      <td>M, L, XL</td>\n",
       "      <td>XL</td>\n",
       "      <td>Green</td>\n",
       "      <td>Medium</td>\n",
       "      <td>24</td>\n",
       "      <td>Vogue</td>\n",
       "      <td>Chiara Ferragni</td>\n",
       "      <td>Fall/Winter</td>\n",
       "      <td>Daytime</td>\n",
       "      <td>Mixed</td>\n",
       "      <td>Mixed</td>\n",
       "      <td>Other</td>\n",
       "    </tr>\n",
       "    <tr>\n",
       "      <th>1</th>\n",
       "      <td>Y0V7</td>\n",
       "      <td>52.341277</td>\n",
       "      <td>Ted Baker</td>\n",
       "      <td>Tops</td>\n",
       "      <td>Not Good</td>\n",
       "      <td>1.037677</td>\n",
       "      <td>57</td>\n",
       "      <td>Vintage</td>\n",
       "      <td>M, L, XL</td>\n",
       "      <td>XL</td>\n",
       "      <td>Black</td>\n",
       "      <td>Above Average</td>\n",
       "      <td>61</td>\n",
       "      <td>Glamour</td>\n",
       "      <td>Leandra Medine</td>\n",
       "      <td>Winter</td>\n",
       "      <td>Weekend</td>\n",
       "      <td>Negative</td>\n",
       "      <td>Neutral</td>\n",
       "      <td>Other</td>\n",
       "    </tr>\n",
       "    <tr>\n",
       "      <th>2</th>\n",
       "      <td>N9Q4</td>\n",
       "      <td>15.430975</td>\n",
       "      <td>Jigsaw</td>\n",
       "      <td>Footwear</td>\n",
       "      <td>Very Bad</td>\n",
       "      <td>3.967106</td>\n",
       "      <td>197</td>\n",
       "      <td>Streetwear</td>\n",
       "      <td>S, M, L</td>\n",
       "      <td>M</td>\n",
       "      <td>Blue</td>\n",
       "      <td>Average</td>\n",
       "      <td>27</td>\n",
       "      <td>Marie Claire</td>\n",
       "      <td>Gigi Hadid</td>\n",
       "      <td>Summer</td>\n",
       "      <td>Nighttime</td>\n",
       "      <td>Unknown</td>\n",
       "      <td>Negative</td>\n",
       "      <td>Neutral</td>\n",
       "    </tr>\n",
       "    <tr>\n",
       "      <th>3</th>\n",
       "      <td>V2T6</td>\n",
       "      <td>81.116542</td>\n",
       "      <td>Alexander McQueen</td>\n",
       "      <td>Outerwear</td>\n",
       "      <td>Not Good</td>\n",
       "      <td>2.844659</td>\n",
       "      <td>473</td>\n",
       "      <td>Formal</td>\n",
       "      <td>S, M, L</td>\n",
       "      <td>L</td>\n",
       "      <td>Red</td>\n",
       "      <td>Very High</td>\n",
       "      <td>50</td>\n",
       "      <td>Marie Claire</td>\n",
       "      <td>Chiara Ferragni</td>\n",
       "      <td>Fall/Winter</td>\n",
       "      <td>Weekend</td>\n",
       "      <td>Neutral</td>\n",
       "      <td>Other</td>\n",
       "      <td>Other</td>\n",
       "    </tr>\n",
       "    <tr>\n",
       "      <th>4</th>\n",
       "      <td>S7Y1</td>\n",
       "      <td>31.633686</td>\n",
       "      <td>Tommy Hilfiger</td>\n",
       "      <td>Bottoms</td>\n",
       "      <td>Very Good</td>\n",
       "      <td>1.183242</td>\n",
       "      <td>55</td>\n",
       "      <td>Sporty</td>\n",
       "      <td>M, L, XL</td>\n",
       "      <td>S</td>\n",
       "      <td>Green</td>\n",
       "      <td>Above Average</td>\n",
       "      <td>23</td>\n",
       "      <td>Glamour</td>\n",
       "      <td>Song of Style</td>\n",
       "      <td>Spring</td>\n",
       "      <td>Daytime</td>\n",
       "      <td>Positive</td>\n",
       "      <td>Mixed</td>\n",
       "      <td>Positive</td>\n",
       "    </tr>\n",
       "  </tbody>\n",
       "</table>\n",
       "</div>"
      ],
      "text/plain": [
       "  Product Name      Price              Brand   Category Description    Rating  \\\n",
       "0         T5D3  97.509966       Ralph Lauren   Footwear         Bad  1.421706   \n",
       "1         Y0V7  52.341277          Ted Baker       Tops    Not Good  1.037677   \n",
       "2         N9Q4  15.430975             Jigsaw   Footwear    Very Bad  3.967106   \n",
       "3         V2T6  81.116542  Alexander McQueen  Outerwear    Not Good  2.844659   \n",
       "4         S7Y1  31.633686     Tommy Hilfiger    Bottoms   Very Good  1.183242   \n",
       "\n",
       "   Review Count Style Attributes Total Sizes Available Sizes  Color  \\\n",
       "0           492       Streetwear    M, L, XL              XL  Green   \n",
       "1            57          Vintage    M, L, XL              XL  Black   \n",
       "2           197       Streetwear     S, M, L               M   Blue   \n",
       "3           473           Formal     S, M, L               L    Red   \n",
       "4            55           Sporty    M, L, XL               S  Green   \n",
       "\n",
       "  Purchase History  Age Fashion Magazines Fashion Influencers       Season  \\\n",
       "0           Medium   24             Vogue     Chiara Ferragni  Fall/Winter   \n",
       "1    Above Average   61           Glamour      Leandra Medine       Winter   \n",
       "2          Average   27      Marie Claire          Gigi Hadid       Summer   \n",
       "3        Very High   50      Marie Claire     Chiara Ferragni  Fall/Winter   \n",
       "4    Above Average   23           Glamour       Song of Style       Spring   \n",
       "\n",
       "  Time Period Highest Purchase Customer Reviews Social Media Comments  \\\n",
       "0                      Daytime            Mixed                 Mixed   \n",
       "1                      Weekend         Negative               Neutral   \n",
       "2                    Nighttime          Unknown              Negative   \n",
       "3                      Weekend          Neutral                 Other   \n",
       "4                      Daytime         Positive                 Mixed   \n",
       "\n",
       "   feedback  \n",
       "0     Other  \n",
       "1     Other  \n",
       "2   Neutral  \n",
       "3     Other  \n",
       "4  Positive  "
      ]
     },
     "execution_count": 45,
     "metadata": {},
     "output_type": "execute_result"
    }
   ],
   "source": [
    "##Data set is displayed\n",
    "df.head()"
   ]
  },
  {
   "cell_type": "code",
   "execution_count": 47,
   "id": "efa2debb",
   "metadata": {},
   "outputs": [
    {
     "data": {
      "text/plain": [
       "Product Name                    0\n",
       "Price                           0\n",
       "Brand                           0\n",
       "Category                        0\n",
       "Description                     0\n",
       "Rating                          0\n",
       "Review Count                    0\n",
       "Style Attributes                0\n",
       "Total Sizes                     0\n",
       "Available Sizes                 0\n",
       "Color                           0\n",
       "Purchase History                0\n",
       "Age                             0\n",
       "Fashion Magazines               0\n",
       "Fashion Influencers             0\n",
       "Season                          0\n",
       "Time Period Highest Purchase    0\n",
       "Customer Reviews                0\n",
       "Social Media Comments           0\n",
       "feedback                        0\n",
       "dtype: int64"
      ]
     },
     "execution_count": 47,
     "metadata": {},
     "output_type": "execute_result"
    }
   ],
   "source": [
    "## Data frame is checked for the null values\n",
    "df.isnull().sum()"
   ]
  },
  {
   "cell_type": "code",
   "execution_count": 48,
   "id": "e33c2d1d",
   "metadata": {},
   "outputs": [],
   "source": [
    "##Data frame is checked for the duplicates\n",
    "df_dups = df[df.duplicated()]"
   ]
  },
  {
   "cell_type": "code",
   "execution_count": 49,
   "id": "4a29f219",
   "metadata": {
    "scrolled": true
   },
   "outputs": [
    {
     "data": {
      "text/html": [
       "<div>\n",
       "<style scoped>\n",
       "    .dataframe tbody tr th:only-of-type {\n",
       "        vertical-align: middle;\n",
       "    }\n",
       "\n",
       "    .dataframe tbody tr th {\n",
       "        vertical-align: top;\n",
       "    }\n",
       "\n",
       "    .dataframe thead th {\n",
       "        text-align: right;\n",
       "    }\n",
       "</style>\n",
       "<table border=\"1\" class=\"dataframe\">\n",
       "  <thead>\n",
       "    <tr style=\"text-align: right;\">\n",
       "      <th></th>\n",
       "      <th>Product Name</th>\n",
       "      <th>Price</th>\n",
       "      <th>Brand</th>\n",
       "      <th>Category</th>\n",
       "      <th>Description</th>\n",
       "      <th>Rating</th>\n",
       "      <th>Review Count</th>\n",
       "      <th>Style Attributes</th>\n",
       "      <th>Total Sizes</th>\n",
       "      <th>Available Sizes</th>\n",
       "      <th>Color</th>\n",
       "      <th>Purchase History</th>\n",
       "      <th>Age</th>\n",
       "      <th>Fashion Magazines</th>\n",
       "      <th>Fashion Influencers</th>\n",
       "      <th>Season</th>\n",
       "      <th>Time Period Highest Purchase</th>\n",
       "      <th>Customer Reviews</th>\n",
       "      <th>Social Media Comments</th>\n",
       "      <th>feedback</th>\n",
       "    </tr>\n",
       "  </thead>\n",
       "  <tbody>\n",
       "  </tbody>\n",
       "</table>\n",
       "</div>"
      ],
      "text/plain": [
       "Empty DataFrame\n",
       "Columns: [Product Name, Price, Brand, Category, Description, Rating, Review Count, Style Attributes, Total Sizes, Available Sizes, Color, Purchase History, Age, Fashion Magazines, Fashion Influencers, Season, Time Period Highest Purchase, Customer Reviews, Social Media Comments, feedback]\n",
       "Index: []"
      ]
     },
     "execution_count": 49,
     "metadata": {},
     "output_type": "execute_result"
    }
   ],
   "source": [
    "df_dups"
   ]
  },
  {
   "cell_type": "code",
   "execution_count": 50,
   "id": "82bfc06d",
   "metadata": {},
   "outputs": [],
   "source": [
    "## Unnecessary columns are dropped\n",
    "df_clean = df.drop(columns = ['Available Sizes'])"
   ]
  },
  {
   "cell_type": "code",
   "execution_count": 51,
   "id": "f05da767",
   "metadata": {},
   "outputs": [],
   "source": [
    "df_clean=df_clean.drop(columns=['Description'])"
   ]
  },
  {
   "cell_type": "code",
   "execution_count": 52,
   "id": "aa5640ce",
   "metadata": {},
   "outputs": [
    {
     "name": "stdout",
     "output_type": "stream",
     "text": [
      "<class 'pandas.core.frame.DataFrame'>\n",
      "RangeIndex: 1000000 entries, 0 to 999999\n",
      "Data columns (total 18 columns):\n",
      " #   Column                        Non-Null Count    Dtype  \n",
      "---  ------                        --------------    -----  \n",
      " 0   Product Name                  1000000 non-null  object \n",
      " 1   Price                         1000000 non-null  float64\n",
      " 2   Brand                         1000000 non-null  object \n",
      " 3   Category                      1000000 non-null  object \n",
      " 4   Rating                        1000000 non-null  float64\n",
      " 5   Review Count                  1000000 non-null  int64  \n",
      " 6   Style Attributes              1000000 non-null  object \n",
      " 7   Total Sizes                   1000000 non-null  object \n",
      " 8   Color                         1000000 non-null  object \n",
      " 9   Purchase History              1000000 non-null  object \n",
      " 10  Age                           1000000 non-null  int64  \n",
      " 11  Fashion Magazines             1000000 non-null  object \n",
      " 12  Fashion Influencers           1000000 non-null  object \n",
      " 13  Season                        1000000 non-null  object \n",
      " 14  Time Period Highest Purchase  1000000 non-null  object \n",
      " 15  Customer Reviews              1000000 non-null  object \n",
      " 16  Social Media Comments         1000000 non-null  object \n",
      " 17  feedback                      1000000 non-null  object \n",
      "dtypes: float64(2), int64(2), object(14)\n",
      "memory usage: 137.3+ MB\n"
     ]
    }
   ],
   "source": [
    "df_clean.info()"
   ]
  },
  {
   "cell_type": "code",
   "execution_count": 53,
   "id": "3332aeeb",
   "metadata": {},
   "outputs": [
    {
     "data": {
      "text/plain": [
       "(1000000, 18)"
      ]
     },
     "execution_count": 53,
     "metadata": {},
     "output_type": "execute_result"
    }
   ],
   "source": [
    "df_clean.shape"
   ]
  },
  {
   "cell_type": "code",
   "execution_count": 55,
   "id": "cb4507fe",
   "metadata": {},
   "outputs": [],
   "source": [
    "df_clean.to_csv(os.path.join(path, 'Data Source', 'mock_fashion_data_uk_new.csv'))"
   ]
  },
  {
   "cell_type": "code",
   "execution_count": null,
   "id": "e39454a0",
   "metadata": {},
   "outputs": [],
   "source": [
    "# Create a subset excluding the \"Date\" and \"No\" columns\n",
    "\n",
    "sub = df[['House age', 'D. metro', 'N. shops', 'Latitude','Longitude', 'Price per unit']]"
   ]
  },
  {
   "cell_type": "code",
   "execution_count": null,
   "id": "11f91822",
   "metadata": {},
   "outputs": [],
   "source": []
  },
  {
   "cell_type": "code",
   "execution_count": null,
   "id": "93f148dc",
   "metadata": {},
   "outputs": [],
   "source": []
  },
  {
   "cell_type": "code",
   "execution_count": null,
   "id": "1588d4c3",
   "metadata": {},
   "outputs": [],
   "source": []
  },
  {
   "cell_type": "code",
   "execution_count": null,
   "id": "a8f57d33",
   "metadata": {},
   "outputs": [],
   "source": []
  }
 ],
 "metadata": {
  "kernelspec": {
   "display_name": "Python 3 (ipykernel)",
   "language": "python",
   "name": "python3"
  },
  "language_info": {
   "codemirror_mode": {
    "name": "ipython",
    "version": 3
   },
   "file_extension": ".py",
   "mimetype": "text/x-python",
   "name": "python",
   "nbconvert_exporter": "python",
   "pygments_lexer": "ipython3",
   "version": "3.10.9"
  }
 },
 "nbformat": 4,
 "nbformat_minor": 5
}
